{
 "cells": [
  {
   "cell_type": "code",
   "execution_count": 1,
   "id": "481946d2-b258-4840-b892-f4452c048e43",
   "metadata": {},
   "outputs": [],
   "source": [
    "import torch\n",
    "import numpy as np\n",
    "from matplotlib import pyplot as plt\n",
    "from torch.utils.data import DataLoader\n",
    "from torchvision import transforms\n",
    "from torchvision import datasets\n",
    "import torch.nn.functional as F"
   ]
  },
  {
   "cell_type": "code",
   "execution_count": 2,
   "id": "6336b06b-a911-4331-b76b-30af9d8459d4",
   "metadata": {},
   "outputs": [],
   "source": [
    "\"\"\"\n",
    "卷积运算 使用mnist数据集，和10-4，11类似的，只是这里：1.输出训练轮的acc 2.模型上使用torch.nn.Sequential\n",
    "\"\"\"\n",
    "# Super parameter ------------------------------------------------------------------------------------\n",
    "batch_size = 64\n",
    "learning_rate = 0.01\n",
    "momentum = 0.5\n",
    "EPOCH = 10"
   ]
  },
  {
   "cell_type": "code",
   "execution_count": 3,
   "id": "6bf99e4a-c617-47bf-8531-217c5035ce5b",
   "metadata": {},
   "outputs": [],
   "source": [
    "# Prepare dataset ------------------------------------------------------------------------------------\n",
    "transform = transforms.Compose([transforms.ToTensor(), transforms.Normalize((0.1307,), (0.3081,))])\n",
    "# softmax归一化指数函数(https://blog.csdn.net/lz_peter/article/details/84574716),其中0.1307是mean均值和0.3081是std标准差"
   ]
  },
  {
   "cell_type": "code",
   "execution_count": 6,
   "id": "02d1745a-e2da-4509-b139-3d91bbccd3db",
   "metadata": {},
   "outputs": [
    {
     "name": "stderr",
     "output_type": "stream",
     "text": [
      "100%|██████████| 9.91M/9.91M [00:03<00:00, 2.76MB/s]\n",
      "100%|██████████| 28.9k/28.9k [00:00<00:00, 120kB/s]\n",
      "100%|██████████| 1.65M/1.65M [00:01<00:00, 932kB/s] \n",
      "100%|██████████| 4.54k/4.54k [00:00<00:00, 2.66MB/s]\n"
     ]
    }
   ],
   "source": [
    "train_dataset = datasets.MNIST(root='./data/mnist', train=True, transform=transform, download=True)  # 本地没有就加上download=True\n",
    "test_dataset = datasets.MNIST(root='./data/mnist', train=False, transform=transform, download=True)  # train=True训练集，=False测试集\n",
    "train_loader = DataLoader(train_dataset, batch_size=batch_size, shuffle=True)\n",
    "test_loader = DataLoader(test_dataset, batch_size=batch_size, shuffle=False)"
   ]
  },
  {
   "cell_type": "code",
   "execution_count": 7,
   "id": "07fa64aa-bcfe-4597-8673-d8c3c9412fb8",
   "metadata": {},
   "outputs": [
    {
     "name": "stderr",
     "output_type": "stream",
     "text": [
      "c:\\Users\\86184\\AppData\\Local\\Programs\\Python\\Python310\\lib\\site-packages\\torchvision\\datasets\\mnist.py:76: UserWarning: train_data has been renamed data\n",
      "  warnings.warn(\"train_data has been renamed data\")\n",
      "c:\\Users\\86184\\AppData\\Local\\Programs\\Python\\Python310\\lib\\site-packages\\torchvision\\datasets\\mnist.py:66: UserWarning: train_labels has been renamed targets\n",
      "  warnings.warn(\"train_labels has been renamed targets\")\n"
     ]
    },
    {
     "data": {
      "image/png": "[encoded data removed]",
      "text/plain": [
       "<Figure size 640x480 with 12 Axes>"
      ]
     },
     "metadata": {},
     "output_type": "display_data"
    }
   ],
   "source": [
    "fig = plt.figure()\n",
    "for i in range(12):\n",
    "    plt.subplot(3, 4, i+1)\n",
    "    plt.tight_layout()\n",
    "    plt.imshow(train_dataset.train_data[i], cmap='gray', interpolation='none')\n",
    "    plt.title(\"Labels: {}\".format(train_dataset.train_labels[i]))\n",
    "    plt.xticks([])\n",
    "    plt.yticks([])\n",
    "plt.show()"
   ]
  },
  {
   "cell_type": "code",
   "execution_count": 8,
   "id": "51fae0ed-d040-4ba1-a1b8-11755834ba87",
   "metadata": {},
   "outputs": [],
   "source": [
    "# 训练集乱序，测试集有序\n",
    "# Design model using class ------------------------------------------------------------------------------\n",
    "class Net(torch.nn.Module):\n",
    "    def __init__(self):\n",
    "        super(Net, self).__init__()\n",
    "        self.conv1 = torch.nn.Sequential(\n",
    "            torch.nn.Conv2d(1, 10, kernel_size=5),\n",
    "            torch.nn.ReLU(),\n",
    "            torch.nn.MaxPool2d(kernel_size=2),\n",
    "        )\n",
    "        self.conv2 = torch.nn.Sequential(\n",
    "            torch.nn.Conv2d(10, 20, kernel_size=5),\n",
    "            torch.nn.ReLU(),\n",
    "            torch.nn.MaxPool2d(kernel_size=2),\n",
    "        )\n",
    "        self.fc = torch.nn.Sequential(\n",
    "            torch.nn.Linear(320, 50),\n",
    "            torch.nn.Linear(50, 10),\n",
    "        )\n",
    "\n",
    "    def forward(self, x):\n",
    "        batch_size = x.size(0)\n",
    "        x = self.conv1(x)  # 一层卷积层,一层池化层,一层激活层(图是先卷积后激活再池化，差别不大)\n",
    "        x = self.conv2(x)  # 再来一次\n",
    "        x = x.view(batch_size, -1)  # flatten 变成全连接网络需要的输入 (batch, 20,4,4) ==> (batch,320), -1 此处自动算出的是320\n",
    "        x = self.fc(x)\n",
    "        return x  # 最后输出的是维度为10的，也就是（对应数学符号的0~9）\n",
    "\n",
    "\n",
    "model = Net()\n",
    "\n",
    "\n",
    "# Construct loss and optimizer ------------------------------------------------------------------------------\n",
    "criterion = torch.nn.CrossEntropyLoss()  # 交叉熵损失\n",
    "optimizer = torch.optim.SGD(model.parameters(), lr=learning_rate, momentum=momentum)  # lr学习率，momentum冲量"
   ]
  },
  {
   "cell_type": "code",
   "execution_count": 12,
   "id": "f0e0e717-a2af-4bc9-8960-0df5b6eea111",
   "metadata": {},
   "outputs": [],
   "source": [
    "# Train and Test CLASS --------------------------------------------------------------------------------------\n",
    "# 把单独的一轮一环封装在函数类里\n",
    "def train(epoch):\n",
    "    running_loss = 0.0  # 这整个epoch的loss清零\n",
    "    running_total = 0\n",
    "    running_correct = 0\n",
    "    for batch_idx, data in enumerate(train_loader, 0):\n",
    "        inputs, target = data\n",
    "        optimizer.zero_grad()\n",
    "\n",
    "        # forward + backward + update\n",
    "        outputs = model(inputs)\n",
    "        loss = criterion(outputs, target)\n",
    "\n",
    "        loss.backward()\n",
    "        optimizer.step()\n",
    "\n",
    "        # 把运行中的loss累加起来，为了下面300次一除\n",
    "        running_loss += loss.item()\n",
    "        # 把运行中的准确率acc算出来\n",
    "        _, predicted = torch.max(outputs.data, dim=1)\n",
    "        running_total += inputs.shape[0]\n",
    "        running_correct += (predicted == target).sum().item()\n",
    "\n",
    "        if batch_idx % 300 == 299:  # 不想要每一次都出loss，浪费时间，选择每300次出一个平均损失,和准确率\n",
    "            print('[%d, %5d]: loss: %.3f , acc: %.2f %%'\n",
    "                  % (epoch + 1, batch_idx + 1, running_loss / 300, 100 * running_correct / running_total))\n",
    "            running_loss = 0.0  # 这小批300的loss清零\n",
    "            running_total = 0\n",
    "            running_correct = 0  # 这小批300的acc清零\n",
    "\n",
    "    torch.save(model, f'./models/model_Mnist_{epoch+1}.pth')\n",
    "    torch.save(optimizer.state_dict(), f'./optimizers/optimizer_Mnist_{epoch+1}.pth')"
   ]
  },
  {
   "cell_type": "code",
   "execution_count": 13,
   "id": "657a9492-9282-414c-aeaa-68dd9b874a5c",
   "metadata": {},
   "outputs": [],
   "source": [
    "def test():\n",
    "    correct = 0\n",
    "    total = 0\n",
    "    with torch.no_grad():  # 测试集不用算梯度\n",
    "        for data in test_loader:\n",
    "            images, labels = data\n",
    "            outputs = model(images)\n",
    "            _, predicted = torch.max(outputs.data, dim=1)  # dim = 1 列是第0个维度，行是第1个维度，沿着行(第1个维度)去找1.最大值和2.最大值的下标\n",
    "            total += labels.size(0)  # 张量之间的比较运算\n",
    "            correct += (predicted == labels).sum().item()\n",
    "    acc = correct / total\n",
    "    print('[%d / %d]: Accuracy on test set: %.1f %% ' % (epoch+1, EPOCH, 100 * acc))  # 求测试的准确率，正确数/总数\n",
    "    return acc"
   ]
  },
  {
   "cell_type": "code",
   "execution_count": 15,
   "id": "67971b54-68d1-4735-b9e2-553d7a5b0f23",
   "metadata": {},
   "outputs": [
    {
     "name": "stdout",
     "output_type": "stream",
     "text": [
      "[1,   300]: loss: 0.032 , acc: 99.08 %\n",
      "[1,   600]: loss: 0.033 , acc: 98.93 %\n",
      "[1,   900]: loss: 0.031 , acc: 99.07 %\n",
      "[1 / 10]: Accuracy on test set: 98.9 % \n",
      "[2,   300]: loss: 0.031 , acc: 99.09 %\n",
      "[2,   600]: loss: 0.031 , acc: 99.01 %\n",
      "[2,   900]: loss: 0.030 , acc: 99.10 %\n",
      "[2 / 10]: Accuracy on test set: 98.9 % \n",
      "[3,   300]: loss: 0.028 , acc: 99.18 %\n",
      "[3,   600]: loss: 0.027 , acc: 99.20 %\n",
      "[3,   900]: loss: 0.031 , acc: 99.06 %\n",
      "[3 / 10]: Accuracy on test set: 98.8 % \n",
      "[4,   300]: loss: 0.027 , acc: 99.20 %\n",
      "[4,   600]: loss: 0.026 , acc: 99.21 %\n",
      "[4,   900]: loss: 0.031 , acc: 99.10 %\n",
      "[4 / 10]: Accuracy on test set: 99.0 % \n",
      "[5,   300]: loss: 0.024 , acc: 99.32 %\n",
      "[5,   600]: loss: 0.026 , acc: 99.17 %\n",
      "[5,   900]: loss: 0.027 , acc: 99.23 %\n",
      "[5 / 10]: Accuracy on test set: 98.8 % \n",
      "[6,   300]: loss: 0.026 , acc: 99.23 %\n",
      "[6,   600]: loss: 0.023 , acc: 99.36 %\n",
      "[6,   900]: loss: 0.025 , acc: 99.16 %\n",
      "[6 / 10]: Accuracy on test set: 98.9 % \n",
      "[7,   300]: loss: 0.023 , acc: 99.25 %\n",
      "[7,   600]: loss: 0.024 , acc: 99.35 %\n",
      "[7,   900]: loss: 0.026 , acc: 99.24 %\n",
      "[7 / 10]: Accuracy on test set: 99.0 % \n",
      "[8,   300]: loss: 0.021 , acc: 99.38 %\n",
      "[8,   600]: loss: 0.023 , acc: 99.32 %\n",
      "[8,   900]: loss: 0.024 , acc: 99.29 %\n",
      "[8 / 10]: Accuracy on test set: 98.8 % \n",
      "[9,   300]: loss: 0.024 , acc: 99.29 %\n",
      "[9,   600]: loss: 0.022 , acc: 99.36 %\n",
      "[9,   900]: loss: 0.020 , acc: 99.38 %\n",
      "[9 / 10]: Accuracy on test set: 98.9 % \n",
      "[10,   300]: loss: 0.018 , acc: 99.48 %\n",
      "[10,   600]: loss: 0.021 , acc: 99.36 %\n",
      "[10,   900]: loss: 0.021 , acc: 99.42 %\n",
      "[10 / 10]: Accuracy on test set: 99.0 % \n"
     ]
    },
    {
     "data": {
      "image/png": "[encoded data removed]",
      "text/plain": [
       "<Figure size 640x480 with 1 Axes>"
      ]
     },
     "metadata": {},
     "output_type": "display_data"
    }
   ],
   "source": [
    "# Start train and Test --------------------------------------------------------------------------------------\n",
    "if __name__ == '__main__':\n",
    "    acc_list_test = []\n",
    "    for epoch in range(EPOCH):\n",
    "        train(epoch)\n",
    "        # if epoch % 10 == 9:  #每训练10轮 测试1次\n",
    "        acc_test = test()\n",
    "        acc_list_test.append(acc_test)\n",
    "\n",
    "    plt.plot(acc_list_test)\n",
    "    plt.xlabel('Epoch')\n",
    "    plt.ylabel('Accuracy On TestSet')\n",
    "    plt.show()"
   ]
  },
  {
   "cell_type": "code",
   "execution_count": null,
   "id": "11b1f2bd-3556-47e7-b417-4c901239ccd8",
   "metadata": {},
   "outputs": [],
   "source": []
  },
  {
   "cell_type": "code",
   "execution_count": null,
   "id": "0bfadb02-46d9-429a-bea6-c886fb68f5db",
   "metadata": {},
   "outputs": [],
   "source": []
  },
  {
   "cell_type": "code",
   "execution_count": null,
   "id": "4de29c8c-1121-4741-9e32-2947993345dc",
   "metadata": {},
   "outputs": [],
   "source": []
  },
  {
   "cell_type": "code",
   "execution_count": null,
   "id": "fb5488e4-56a3-45e4-bd84-bf7a70cfb2e5",
   "metadata": {},
   "outputs": [],
   "source": []
  },
  {
   "cell_type": "code",
   "execution_count": null,
   "id": "00223ebc-b39e-4dc6-8d46-b3fa9ac565c5",
   "metadata": {},
   "outputs": [],
   "source": []
  },
  {
   "cell_type": "code",
   "execution_count": null,
   "id": "e37e81eb-56c5-4ce4-b692-25317b2f8baa",
   "metadata": {},
   "outputs": [],
   "source": []
  },
  {
   "cell_type": "code",
   "execution_count": null,
   "id": "de5f49c6-8790-4719-82c4-99024ef4096d",
   "metadata": {},
   "outputs": [],
   "source": []
  },
  {
   "cell_type": "code",
   "execution_count": null,
   "id": "e4dde97d-c2e2-4c90-94ab-910b2f269daa",
   "metadata": {},
   "outputs": [],
   "source": []
  },
  {
   "cell_type": "code",
   "execution_count": null,
   "id": "d540c345-81a5-4726-8172-cfd737e12c4b",
   "metadata": {},
   "outputs": [],
   "source": []
  },
  {
   "cell_type": "code",
   "execution_count": null,
   "id": "c6efba7a-df54-4f1b-a760-9a15df6c0295",
   "metadata": {},
   "outputs": [],
   "source": []
  },
  {
   "cell_type": "code",
   "execution_count": null,
   "id": "45f149bc-4bfb-4a4b-a6d6-e0671a1add6d",
   "metadata": {},
   "outputs": [],
   "source": []
  },
  {
   "cell_type": "code",
   "execution_count": null,
   "id": "37567fa9-bafc-4a20-b831-c782b9fba938",
   "metadata": {},
   "outputs": [],
   "source": []
  },
  {
   "cell_type": "code",
   "execution_count": null,
   "id": "a7ceb31f-dad3-413e-b290-66b1bf8e9f88",
   "metadata": {},
   "outputs": [],
   "source": []
  },
  {
   "cell_type": "code",
   "execution_count": null,
   "id": "a0386425-f0d2-4276-9329-c41aa64c41f4",
   "metadata": {},
   "outputs": [],
   "source": []
  },
  {
   "cell_type": "code",
   "execution_count": null,
   "id": "abf928ab-334e-4670-b0b7-df48683e53de",
   "metadata": {},
   "outputs": [],
   "source": []
  },
  {
   "cell_type": "code",
   "execution_count": null,
   "id": "298e8903-f5a0-487f-869e-5a29171899a1",
   "metadata": {},
   "outputs": [],
   "source": []
  },
  {
   "cell_type": "code",
   "execution_count": null,
   "id": "89e50a87-d310-4f68-b72d-071add62c357",
   "metadata": {},
   "outputs": [],
   "source": []
  },
  {
   "cell_type": "code",
   "execution_count": null,
   "id": "95b65a2a-276a-4a48-a084-eaff007de601",
   "metadata": {},
   "outputs": [],
   "source": []
  },
  {
   "cell_type": "code",
   "execution_count": null,
   "id": "b441f193-b253-4a35-abd5-c551c7f399c5",
   "metadata": {},
   "outputs": [],
   "source": []
  }
 ],
 "metadata": {
  "kernelspec": {
   "display_name": "Python 3",
   "language": "python",
   "name": "python3"
  },
  "language_info": {
   "codemirror_mode": {
    "name": "ipython",
    "version": 3
   },
   "file_extension": ".py",
   "mimetype": "text/x-python",
   "name": "python",
   "nbconvert_exporter": "python",
   "pygments_lexer": "ipython3",
   "version": "3.10.7"
  }
 },
 "nbformat": 4,
 "nbformat_minor": 5
}
