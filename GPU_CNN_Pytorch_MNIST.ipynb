{
 "cells": [
  {
   "cell_type": "code",
   "execution_count": 1,
   "id": "038963fb-d12a-4242-a1a6-a354c2521a4b",
   "metadata": {},
   "outputs": [],
   "source": [
    "import torch\n",
    "import numpy as np\n",
    "from matplotlib import pyplot as plt\n",
    "from torch.utils.data import DataLoader\n",
    "from torchvision import transforms\n",
    "from torchvision import datasets\n",
    "import torch.nn.functional as F\n"
   ]
  },
  {
   "cell_type": "code",
   "execution_count": 2,
   "id": "5cc36f84-ffc6-48c9-8b2c-d1c135f31931",
   "metadata": {},
   "outputs": [],
   "source": [
    "\"\"\"\n",
    "卷积运算 使用mnist数据集，和10-4，11类似的，只是这里：1.输出训练轮的acc 2.模型上使用torch.nn.Sequential\n",
    "\"\"\"\n",
    "# Super parameter ------------------------------------------------------------------------------------\n",
    "batch_size = 64\n",
    "learning_rate = 0.01\n",
    "momentum = 0.5\n",
    "EPOCH = 10\n"
   ]
  },
  {
   "cell_type": "code",
   "execution_count": 7,
   "id": "75f53674-a587-4938-9b25-458d80eb1b92",
   "metadata": {},
   "outputs": [
    {
     "name": "stdout",
     "output_type": "stream",
     "text": [
      "Using device: cuda:0\n"
     ]
    }
   ],
   "source": [
    "# --- 新增代码：检测并指定设备 ---\n",
    "# device = torch.device(\"cuda\" if torch.cuda.is_available() else \"cpu\") # 检查 CUDA 是否可用\n",
    "# 或者如果你有多块GPU，可以指定使用哪一块，例如使用第一块GPU：\n",
    "device = torch.device(\"cuda:0\" if torch.cuda.is_available() else \"cpu\") \n",
    "print(f\"Using device: {device}\")\n",
    "# ---------------------------------\n"
   ]
  },
  {
   "cell_type": "code",
   "execution_count": 3,
   "id": "50e97e5d-4b47-4af6-9a4a-987393747ab9",
   "metadata": {},
   "outputs": [],
   "source": [
    "transform = transforms.Compose([\n",
    "    transforms.ToTensor(),\n",
    "    transforms.Normalize((0.1307,), (0.3081,))\n",
    "])\n"
   ]
  },
  {
   "cell_type": "code",
   "execution_count": 4,
   "id": "b4b298a5-04c2-4c3b-be31-c6395a1cdb0f",
   "metadata": {},
   "outputs": [],
   "source": [
    "train_dataset = datasets.MNIST(root='./data/mnist', train=True, download=True, transform=transform)\n",
    "test_dataset = datasets.MNIST(root='./data/mnist', train=False, download=True, transform=transform)  # train=True训练集，=False测试集\n"
   ]
  },
  {
   "cell_type": "code",
   "execution_count": 5,
   "id": "7dd1bee6-2734-4dac-b2b1-619dc7ef544c",
   "metadata": {},
   "outputs": [],
   "source": [
    "# batch_size = batch_size # 需要定义batch_size变量，例如 batch_size = 64\n",
    "train_loader = DataLoader(train_dataset, batch_size=batch_size, shuffle=True)\n",
    "test_loader = DataLoader(test_dataset, batch_size=batch_size, shuffle=False)\n"
   ]
  },
  {
   "cell_type": "code",
   "execution_count": null,
   "id": "afab4047-24bd-4870-9ec6-7c6af5fba686",
   "metadata": {},
   "outputs": [],
   "source": []
  },
  {
   "cell_type": "code",
   "execution_count": 6,
   "id": "f7ef9d4f-5e48-4f73-b785-74bc20dabb23",
   "metadata": {},
   "outputs": [
    {
     "name": "stderr",
     "output_type": "stream",
     "text": [
      "/usr/local/anaconda3/lib/python3.12/site-packages/torchvision/datasets/mnist.py:76: UserWarning: train_data has been renamed data\n",
      "  warnings.warn(\"train_data has been renamed data\")\n",
      "/usr/local/anaconda3/lib/python3.12/site-packages/torchvision/datasets/mnist.py:66: UserWarning: train_labels has been renamed targets\n",
      "  warnings.warn(\"train_labels has been renamed targets\")\n"
     ]
    },
    {
     "data": {
      "image/png": "[encoded data removed]",
      "text/plain": [
       "<Figure size 640x480 with 12 Axes>"
      ]
     },
     "metadata": {},
     "output_type": "display_data"
    }
   ],
   "source": [
    "fig = plt.figure()\n",
    "for i in range(12):\n",
    "    plt.subplot(3, 4, i+1)\n",
    "    plt.tight_layout()\n",
    "    # 注意：直接访问 .train_data 和 .train_labels 是可行的，但更常见和推荐的方式是通过 DataLoader 迭代获取数据。\n",
    "    plt.imshow(train_dataset.train_data[i], cmap='gray', interpolation='none') \n",
    "    plt.title(\"Labels: {}\".format(train_dataset.train_labels[i]))\n",
    "    plt.xticks([])\n",
    "    plt.yticks([])\n",
    "plt.show()\n"
   ]
  },
  {
   "cell_type": "code",
   "execution_count": 8,
   "id": "e97d6bca-49cc-48a1-8be5-a47eaf13f2bc",
   "metadata": {},
   "outputs": [],
   "source": [
    "class Net(torch.nn.Module): \n",
    "    def __init__(self):\n",
    "        super(Net, self).__init__()\n",
    "        # 第一个卷积块\n",
    "        self.conv1 = torch.nn.Sequential(\n",
    "            torch.nn.Conv2d(1, 10, kernel_size=5), # 输入通道1 (灰度图), 输出通道10, 5x5卷积核\n",
    "            torch.nn.ReLU(),\n",
    "            torch.nn.MaxPool2d(kernel_size=2), # 2x2最大池化\n",
    "        )\n",
    "        # 第二个卷积块\n",
    "        self.conv2 = torch.nn.Sequential(\n",
    "            torch.nn.Conv2d(10, 20, kernel_size=5), # 输入通道10 (来自上一层), 输出通道20, 5x5卷积核\n",
    "            torch.nn.ReLU(),\n",
    "            torch.nn.MaxPool2d(kernel_size=2), # 2x2最大池化\n",
    "        )\n",
    "        # 全连接层\n",
    "        self.fc = torch.nn.Sequential(\n",
    "            torch.nn.Linear(320, 50), # 输入特征320, 输出特征50\n",
    "            torch.nn.Linear(50, 10),  # 输入特征50, 输出特征10 (对应0-9十个类别)\n",
    "        )\n",
    "\n",
    "    def forward(self, x):\n",
    "        # x 的初始形状是 (batch_size, 1, 28, 28)\n",
    "        batch_size = x.size(0) \n",
    "        \n",
    "        # 通过第一个卷积块\n",
    "        # conv1: Conv2d(1, 10, k=5) -> spatial dim (28 - 5)/1 + 1 = 24x24. Shape becomes (batch_size, 10, 24, 24)\n",
    "        # ReLU: shape remains (batch_size, 10, 24, 24)\n",
    "        # MaxPool2d(k=2, s=2 default): spatial dim (24 - 2)/2 + 1 = 12x12. Shape becomes (batch_size, 10, 12, 12)\n",
    "        x = self.conv1(x)  \n",
    "        \n",
    "        # 通过第二个卷积块\n",
    "        # conv2: Conv2d(10, 20, k=5) -> spatial dim (12 - 5)/1 + 1 = 8x8. Shape becomes (batch_size, 20, 8, 8)\n",
    "        # ReLU: shape remains (batch_size, 20, 8, 8)\n",
    "        # MaxPool2d(k=2, s=2 default): spatial dim (8 - 2)/2 + 1 = 4x4. Shape becomes (batch_size, 20, 4, 4)\n",
    "        x = self.conv2(x)  \n",
    "        \n",
    "        # 展平操作 (flatten)\n",
    "        # 将形状 (batch_size, 20, 4, 4) 展平为 (batch_size, 20 * 4 * 4) = (batch_size, 320)\n",
    "        x = x.view(batch_size, -1)  \n",
    "        \n",
    "        # 通过全连接层\n",
    "        # fc: Linear(320, 50) -> output shape (batch_size, 50)\n",
    "        #     Linear(50, 10) -> output shape (batch_size, 10)\n",
    "        x = self.fc(x)\n",
    "        \n",
    "        # 最后输出的是维度为10的，也就是（对应数学符号的0~9）\n",
    "        return x  \n"
   ]
  },
  {
   "cell_type": "code",
   "execution_count": 9,
   "id": "b59f0707-e049-454b-a791-da2080dcba77",
   "metadata": {},
   "outputs": [],
   "source": [
    "model = Net()"
   ]
  },
  {
   "cell_type": "code",
   "execution_count": null,
   "id": "e59b0635-9435-4610-8046-19d8210c3a85",
   "metadata": {},
   "outputs": [],
   "source": []
  },
  {
   "cell_type": "code",
   "execution_count": 10,
   "id": "36eb102b-ff4c-4746-8a20-5b98aac59188",
   "metadata": {},
   "outputs": [],
   "source": [
    "criterion = torch.nn.CrossEntropyLoss()  # 交叉熵损失\n",
    "optimizer = torch.optim.SGD(model.parameters(), lr=learning_rate, momentum=momentum)  # lr学习率，momentum冲量\n"
   ]
  },
  {
   "cell_type": "code",
   "execution_count": null,
   "id": "a2311d6c-1566-4d5c-a30d-7512fa331cad",
   "metadata": {},
   "outputs": [],
   "source": []
  },
  {
   "cell_type": "code",
   "execution_count": 11,
   "id": "0fd18438-9321-410a-acf4-25889b13f684",
   "metadata": {},
   "outputs": [],
   "source": [
    "# 四、定义训练轮和测试轮\n",
    "\n",
    "def train(epoch):\n",
    "    # --- 新增代码：设置模型为训练模式 ---\n",
    "    model.train() # [^digitalocean.com_train]\n",
    "    # -----------------------------------\n",
    "    \n",
    "    running_loss = 0.0  # 累积每个小批次的损失\n",
    "    running_total = 0   # 累积每个小批次的样本总数\n",
    "    running_correct = 0 # 累积每个小批次的正确预测数\n",
    "\n",
    "    # 遍历 train_loader 中的每一个数据批次\n",
    "    for batch_idx, data in enumerate(train_loader, 0):\n",
    "        inputs, target = data\n",
    "        \n",
    "        # --- 修改代码：将数据移动到指定设备 ---\n",
    "        inputs, target = inputs.to(device), target.to(device) # [^pytorch.org_move][^medium.com_to_device][^wandb.ai]\n",
    "        # ---------------------------------------\n",
    "        \n",
    "        optimizer.zero_grad() # 梯度清零\n",
    "\n",
    "        # forward + backward + update\n",
    "        outputs = model(inputs) # 模型在前向传播中处理设备上的数据\n",
    "        loss = criterion(outputs, target) # 损失函数计算设备上的输出和目标\n",
    "        loss.backward() # 反向传播计算设备上的梯度\n",
    "        optimizer.step() # 优化器更新设备上的模型参数\n",
    "\n",
    "        # --- 训练过程中的指标记录 ---\n",
    "        running_loss += loss.item() # loss.item() 将设备上的损失值转为 Python 标量\n",
    "        \n",
    "        # 计算当前批次的预测结果\n",
    "        # torch.max 在设备上执行，但 .data 和 item() 将结果转回 Python/CPU\n",
    "        _, predicted = torch.max(outputs.data, dim=1) # [^pytorch.org_max][^geeksforgeeks.org_max]\n",
    "        \n",
    "        # 累加当前批次的样本总数\n",
    "        running_total += inputs.shape[0]\n",
    "        \n",
    "        # 计算当前批次正确预测的数量 (比较和求和都在设备上执行，item() 转回 Python)\n",
    "        running_correct += (predicted == target).sum().item() \n",
    "\n",
    "        # 每处理 300 个批次，打印一次当前的平均损失和准确率\n",
    "        if batch_idx % 300 == 299:  \n",
    "            print('[%d, %5d]: loss: %.3f , acc: %.2f %%'\n",
    "                  % (epoch + 1, batch_idx + 1, running_loss / 300, 100 * running_correct / running_total))\n",
    "            # 打印后，将用于累积的变量清零\n",
    "            running_loss = 0.0  \n",
    "            running_total = 0\n",
    "            running_correct = 0"
   ]
  },
  {
   "cell_type": "code",
   "execution_count": 12,
   "id": "723b35f1-47e6-4124-a107-98805921d470",
   "metadata": {},
   "outputs": [],
   "source": [
    "# test 函数 (需要在调用 test 函数前定义全局变量 EPOCH 或者将其作为参数传入 test 函数)\n",
    "def test(epoch): # 将 epoch 作为参数传入，使函数更独立\n",
    "    # --- 新增代码：设置模型为评估模式 ---\n",
    "    model.eval() # [^digitalocean.com_train]\n",
    "    # -----------------------------------\n",
    "    \n",
    "    correct = 0  # 累积整个测试集的正确预测数\n",
    "    total = 0    # 累积整个测试集的样本总数\n",
    "\n",
    "    # 使用 torch.no_grad() 上下文管理器：在测试/推理阶段不计算梯度，节省内存和加速。 [^pytorch.org_no_grad][^digitalocean.com_train]\n",
    "    with torch.no_grad():  \n",
    "        for data in test_loader:\n",
    "            images, labels = data\n",
    "            \n",
    "            # --- 修改代码：将数据移动到指定设备 ---\n",
    "            images, labels = images.to(device), labels.to(device) # [^pytorch.org_move][^medium.com_to_device][^wandb.ai]\n",
    "            # -------------------------------------\n",
    "            \n",
    "            outputs = model(images) # 模型在前向传播中处理设备上的数据\n",
    "            \n",
    "            # 获取预测结果\n",
    "            _, predicted = torch.max(outputs.data, dim=1) # [^pytorch.org_max][^geeksforgeeks.org_max]\n",
    "            \n",
    "            # 累加当前批次的样本总数\n",
    "            total += labels.size(0)  \n",
    "            \n",
    "            # 累加当前批次正确预测的数量 (比较和求和都在设备上执行，item() 转回 Python)\n",
    "            correct += (predicted == labels).sum().item() \n",
    "    \n",
    "    # 计算整个测试集的准确率\n",
    "    acc = correct / total\n",
    "    \n",
    "    # 打印当前 epoch 的测试集准确率\n",
    "    # epoch 和 EPOCH 通过函数参数和全局变量获取\n",
    "    print('[%d / %d]: Accuracy on test set: %.1f %% ' % (epoch+1, EPOCH, 100 * acc)) \n",
    "    \n",
    "    # 返回计算出的准确率\n",
    "    return acc\n"
   ]
  },
  {
   "cell_type": "code",
   "execution_count": 13,
   "id": "c81bdcc1-fc8a-44c3-8022-d8841b06d28b",
   "metadata": {},
   "outputs": [
    {
     "name": "stdout",
     "output_type": "stream",
     "text": [
      "[1,   300]: loss: 0.816 , acc: 77.15 %\n",
      "[1,   600]: loss: 0.226 , acc: 93.31 %\n",
      "[1,   900]: loss: 0.157 , acc: 95.23 %\n",
      "[1 / 10]: Accuracy on test set: 96.4 % \n",
      "[2,   300]: loss: 0.115 , acc: 96.47 %\n",
      "[2,   600]: loss: 0.111 , acc: 96.64 %\n",
      "[2,   900]: loss: 0.100 , acc: 97.03 %\n",
      "[2 / 10]: Accuracy on test set: 97.7 % \n",
      "[3,   300]: loss: 0.086 , acc: 97.53 %\n",
      "[3,   600]: loss: 0.078 , acc: 97.49 %\n",
      "[3,   900]: loss: 0.075 , acc: 97.69 %\n",
      "[3 / 10]: Accuracy on test set: 98.0 % \n",
      "[4,   300]: loss: 0.074 , acc: 97.75 %\n",
      "[4,   600]: loss: 0.062 , acc: 98.07 %\n",
      "[4,   900]: loss: 0.065 , acc: 97.99 %\n",
      "[4 / 10]: Accuracy on test set: 98.4 % \n",
      "[5,   300]: loss: 0.058 , acc: 98.26 %\n",
      "[5,   600]: loss: 0.060 , acc: 98.12 %\n",
      "[5,   900]: loss: 0.053 , acc: 98.44 %\n",
      "[5 / 10]: Accuracy on test set: 98.6 % \n",
      "[6,   300]: loss: 0.054 , acc: 98.28 %\n",
      "[6,   600]: loss: 0.053 , acc: 98.48 %\n",
      "[6,   900]: loss: 0.045 , acc: 98.60 %\n",
      "[6 / 10]: Accuracy on test set: 98.5 % \n",
      "[7,   300]: loss: 0.043 , acc: 98.67 %\n",
      "[7,   600]: loss: 0.048 , acc: 98.56 %\n",
      "[7,   900]: loss: 0.049 , acc: 98.52 %\n",
      "[7 / 10]: Accuracy on test set: 98.5 % \n",
      "[8,   300]: loss: 0.039 , acc: 98.85 %\n",
      "[8,   600]: loss: 0.044 , acc: 98.61 %\n",
      "[8,   900]: loss: 0.043 , acc: 98.78 %\n",
      "[8 / 10]: Accuracy on test set: 98.7 % \n",
      "[9,   300]: loss: 0.037 , acc: 98.84 %\n",
      "[9,   600]: loss: 0.041 , acc: 98.78 %\n",
      "[9,   900]: loss: 0.042 , acc: 98.80 %\n",
      "[9 / 10]: Accuracy on test set: 98.6 % \n",
      "[10,   300]: loss: 0.036 , acc: 98.88 %\n",
      "[10,   600]: loss: 0.040 , acc: 98.83 %\n",
      "[10,   900]: loss: 0.036 , acc: 98.97 %\n",
      "[10 / 10]: Accuracy on test set: 98.7 % \n"
     ]
    },
    {
     "data": {
      "image/png": "[encoded data removed]",
      "text/plain": [
       "<Figure size 640x480 with 1 Axes>"
      ]
     },
     "metadata": {},
     "output_type": "display_data"
    }
   ],
   "source": [
    "# 五、开始训练\n",
    "\n",
    "if __name__ == '__main__':\n",
    "    # --- 修改代码：实例化模型后，立即将其移动到指定设备 ---\n",
    "    model = Net().to(device) # [^pytorch.org_move_model][^medium.com_to_device][^wandb.ai]\n",
    "    # -------------------------------------------------------\n",
    "    \n",
    "    # 优化器定义 (在模型已经移动到设备后定义，这样优化器跟踪的就是设备上的参数)\n",
    "    optimizer = torch.optim.SGD(model.parameters(), lr=learning_rate, momentum=momentum) \n",
    "\n",
    "    acc_list_test = [] # 用于存储每个epoch结束时在测试集上的准确率\n",
    "    \n",
    "    # 主循环，迭代进行 EPOCH 次训练和测试\n",
    "    for epoch in range(EPOCH): \n",
    "        # 调用 train 函数进行当前 epoch 的训练\n",
    "        train(epoch) \n",
    "        \n",
    "        # 调用 test 函数在测试集上评估模型性能，传入当前 epoch\n",
    "        acc_test = test(epoch) # 修改：传入 epoch 参数\n",
    "        \n",
    "        # 将当前 epoch 在测试集上获得的准确率添加到列表中\n",
    "        acc_list_test.append(acc_test) \n",
    "\n",
    "    # 训练和测试循环结束后，开始绘制结果 (使用 matplotlib 在 CPU 上绘制，因为 matplotlib 不直接支持 GPU 张量，需要先转回 CPU)\n",
    "    # 注意：这里的 acc_list_test 存储的是 Python float，可以直接绘制\n",
    "    plt.plot(acc_list_test) \n",
    "    plt.xlabel('Epoch')    \n",
    "    plt.ylabel('Accuracy On TestSet') \n",
    "    plt.title('Test Accuracy over Epochs') # 添加图表标题\n",
    "    plt.show()"
   ]
  },
  {
   "cell_type": "code",
   "execution_count": null,
   "id": "35014c3d-690b-4cc9-9887-6e4df1f3a111",
   "metadata": {},
   "outputs": [],
   "source": []
  },
  {
   "cell_type": "code",
   "execution_count": null,
   "id": "1566514a-b040-4774-ab4f-baf77eda7888",
   "metadata": {},
   "outputs": [],
   "source": []
  },
  {
   "cell_type": "code",
   "execution_count": null,
   "id": "299aa4df-f523-4f32-90a1-c4329c55d022",
   "metadata": {},
   "outputs": [],
   "source": []
  },
  {
   "cell_type": "code",
   "execution_count": null,
   "id": "d3220fb4-34ea-4446-890e-2300a6429a2c",
   "metadata": {},
   "outputs": [],
   "source": []
  },
  {
   "cell_type": "code",
   "execution_count": null,
   "id": "0744e4eb-a9d1-4451-a5ac-bd0d7d0c2181",
   "metadata": {},
   "outputs": [],
   "source": []
  },
  {
   "cell_type": "code",
   "execution_count": null,
   "id": "0400bb1e-dc24-4a43-927b-7484c7b93ee6",
   "metadata": {},
   "outputs": [],
   "source": []
  },
  {
   "cell_type": "code",
   "execution_count": null,
   "id": "00a62752-8dbc-4368-b91a-f216c36d8ce6",
   "metadata": {},
   "outputs": [],
   "source": []
  }
 ],
 "metadata": {
  "kernelspec": {
   "display_name": "Python 3 (ipykernel)",
   "language": "python",
   "name": "python3"
  },
  "language_info": {
   "codemirror_mode": {
    "name": "ipython",
    "version": 3
   },
   "file_extension": ".py",
   "mimetype": "text/x-python",
   "name": "python",
   "nbconvert_exporter": "python",
   "pygments_lexer": "ipython3",
   "version": "3.12.7"
  }
 },
 "nbformat": 4,
 "nbformat_minor": 5
}
